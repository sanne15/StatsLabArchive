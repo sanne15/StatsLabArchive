{
 "cells": [
  {
   "cell_type": "code",
   "execution_count": 2,
   "metadata": {},
   "outputs": [],
   "source": [
    "import numpy as np\n",
    "import pandas as pd\n",
    "from scipy.stats import chisquare\n",
    "from scipy.stats import chi2_contingency "
   ]
  },
  {
   "attachments": {},
   "cell_type": "markdown",
   "metadata": {},
   "source": [
    "### 두 모비율에 대한 비교"
   ]
  },
  {
   "attachments": {},
   "cell_type": "markdown",
   "metadata": {},
   "source": [
    "### 모비율 비교를 위한 검정 (표본 크기가 클때)\n",
    "- - -\n",
    "- 검정통계량 : $Z=\\frac{\\hat{p_1}-\\hat{p_2}}{\\sqrt{\\hat{p}(1-\\hat{p})(\\frac{1}{n_1}+\\frac{1}{n_2})}} \\approx N(0, 1) \\; under \\; H_0$"
   ]
  },
  {
   "attachments": {},
   "cell_type": "markdown",
   "metadata": {},
   "source": [
    "```java\n",
    "public class BootSpringBootApplication {\n",
    "    public static void main(String[] args) {\n",
    "        System.out.println(\"Hello, Man!\")\n",
    "    }\n",
    "}\n",
    "```"
   ]
  },
  {
   "cell_type": "code",
   "execution_count": 4,
   "metadata": {},
   "outputs": [],
   "source": [
    "support = pd.read_excel(\"support.xlsx\")"
   ]
  },
  {
   "cell_type": "code",
   "execution_count": 17,
   "metadata": {},
   "outputs": [
    {
     "data": {
      "text/html": [
       "<div>\n",
       "<style scoped>\n",
       "    .dataframe tbody tr th:only-of-type {\n",
       "        vertical-align: middle;\n",
       "    }\n",
       "\n",
       "    .dataframe tbody tr th {\n",
       "        vertical-align: top;\n",
       "    }\n",
       "\n",
       "    .dataframe thead th {\n",
       "        text-align: right;\n",
       "    }\n",
       "</style>\n",
       "<table border=\"1\" class=\"dataframe\">\n",
       "  <thead>\n",
       "    <tr style=\"text-align: right;\">\n",
       "      <th>YesNo</th>\n",
       "      <th>No</th>\n",
       "      <th>Yes</th>\n",
       "    </tr>\n",
       "    <tr>\n",
       "      <th>Gender</th>\n",
       "      <th></th>\n",
       "      <th></th>\n",
       "    </tr>\n",
       "  </thead>\n",
       "  <tbody>\n",
       "    <tr>\n",
       "      <th>Female</th>\n",
       "      <td>96</td>\n",
       "      <td>104</td>\n",
       "    </tr>\n",
       "    <tr>\n",
       "      <th>Male</th>\n",
       "      <td>140</td>\n",
       "      <td>110</td>\n",
       "    </tr>\n",
       "  </tbody>\n",
       "</table>\n",
       "</div>"
      ],
      "text/plain": [
       "YesNo    No  Yes\n",
       "Gender          \n",
       "Female   96  104\n",
       "Male    140  110"
      ]
     },
     "execution_count": 17,
     "metadata": {},
     "output_type": "execute_result"
    }
   ],
   "source": [
    "supportTable = pd.crosstab(index=support[\"Gender\"], \n",
    "                           columns=support[\"YesNo\"])\n",
    "supportTable"
   ]
  },
  {
   "cell_type": "code",
   "execution_count": 18,
   "metadata": {},
   "outputs": [
    {
     "data": {
      "text/html": [
       "<div>\n",
       "<style scoped>\n",
       "    .dataframe tbody tr th:only-of-type {\n",
       "        vertical-align: middle;\n",
       "    }\n",
       "\n",
       "    .dataframe tbody tr th {\n",
       "        vertical-align: top;\n",
       "    }\n",
       "\n",
       "    .dataframe thead th {\n",
       "        text-align: right;\n",
       "    }\n",
       "</style>\n",
       "<table border=\"1\" class=\"dataframe\">\n",
       "  <thead>\n",
       "    <tr style=\"text-align: right;\">\n",
       "      <th>YesNo</th>\n",
       "      <th>No</th>\n",
       "      <th>Yes</th>\n",
       "    </tr>\n",
       "    <tr>\n",
       "      <th>Gender</th>\n",
       "      <th></th>\n",
       "      <th></th>\n",
       "    </tr>\n",
       "  </thead>\n",
       "  <tbody>\n",
       "    <tr>\n",
       "      <th>Female</th>\n",
       "      <td>0.48</td>\n",
       "      <td>0.52</td>\n",
       "    </tr>\n",
       "    <tr>\n",
       "      <th>Male</th>\n",
       "      <td>0.56</td>\n",
       "      <td>0.44</td>\n",
       "    </tr>\n",
       "  </tbody>\n",
       "</table>\n",
       "</div>"
      ],
      "text/plain": [
       "YesNo     No   Yes\n",
       "Gender            \n",
       "Female  0.48  0.52\n",
       "Male    0.56  0.44"
      ]
     },
     "execution_count": 18,
     "metadata": {},
     "output_type": "execute_result"
    }
   ],
   "source": [
    "pd.crosstab(index=support[\"Gender\"], \n",
    "            columns=support[\"YesNo\"], \n",
    "            normalize='index')"
   ]
  },
  {
   "attachments": {},
   "cell_type": "markdown",
   "metadata": {},
   "source": [
    "### 범주형 자료에 대한 여러 모집단의 비교"
   ]
  },
  {
   "cell_type": "code",
   "execution_count": 8,
   "metadata": {},
   "outputs": [
    {
     "name": "stdout",
     "output_type": "stream",
     "text": [
      "[312.75 104.25 104.25  34.75]\n"
     ]
    }
   ],
   "source": [
    "Pea = np.array([315, 108, 101, 32])\n",
    "P0 = np.array([9/16, 3/16, 3/16, 1/16])*np.sum(Pea)\n",
    "print(P0) # 기대빈도 출력"
   ]
  },
  {
   "cell_type": "code",
   "execution_count": 10,
   "metadata": {},
   "outputs": [
    {
     "data": {
      "text/plain": [
       "Power_divergenceResult(statistic=0.4700239808153477, pvalue=0.925425895103616)"
      ]
     },
     "execution_count": 10,
     "metadata": {},
     "output_type": "execute_result"
    }
   ],
   "source": [
    "chisquare(Pea, P0)"
   ]
  },
  {
   "cell_type": "code",
   "execution_count": 11,
   "metadata": {},
   "outputs": [
    {
     "name": "stdout",
     "output_type": "stream",
     "text": [
      "        Kor  Math  Eng\n",
      "Male     73    98   79\n",
      "Female   82    58  110\n"
     ]
    }
   ],
   "source": [
    "x = np.array([[73, 98, 79],[82,58,110]])\n",
    "table = pd.DataFrame(x, ['Male', 'Female'],['Kor', 'Math', 'Eng'])\n",
    "print(table)"
   ]
  },
  {
   "cell_type": "code",
   "execution_count": 14,
   "metadata": {},
   "outputs": [
    {
     "name": "stdout",
     "output_type": "stream",
     "text": [
      "Chi2 = 15.863646986227634\n",
      "p-value = 0.00035913094268842237\n",
      "df = 2\n",
      "Expected value = [[77.5 78.  94.5]\n",
      " [77.5 78.  94.5]]\n"
     ]
    }
   ],
   "source": [
    "# 동질성 검정 : 카이제곱 검정\n",
    "\n",
    "chi2_contingency(table)\n",
    "chi2, pval, df, expected = chi2_contingency(table)\n",
    "\n",
    "print(\"Chi2 =\",chi2) # 카이제곱 통계량 출력\n",
    "print(\"p-value =\",pval) # p-값 출력\n",
    "print(\"df =\",df) # 자유도 출력\n",
    "print(\"Expected value =\",expected) # 기대빈도 출력"
   ]
  },
  {
   "cell_type": "code",
   "execution_count": 5,
   "metadata": {},
   "outputs": [
    {
     "name": "stdout",
     "output_type": "stream",
     "text": [
      "Exer   Freq  None  Some\n",
      "Smoke                  \n",
      "Heavy     7     1     3\n",
      "Never    87    18    84\n",
      "Occas    12     3     4\n",
      "Regul     9     1     7\n"
     ]
    }
   ],
   "source": [
    "survey = pd.read_table(\"survey.txt\", sep = \" \")\n",
    "# 분할표 작성\n",
    "y = survey.groupby(['Smoke','Exer']).size()\n",
    "# table = y.unstack() # Producing Dataframe from Series of multiindex \n",
    "print(y.unstack())"
   ]
  },
  {
   "cell_type": "code",
   "execution_count": 16,
   "metadata": {},
   "outputs": [
    {
     "name": "stdout",
     "output_type": "stream",
     "text": [
      "Chi-squared test: X-squared = 5.48855,p-value = 0.48284, df = 6, expected value = [[ 5.36016949  1.0720339   4.56779661]\n",
      " [92.09745763 18.41949153 78.48305085]\n",
      " [ 9.25847458  1.85169492  7.88983051]\n",
      " [ 8.28389831  1.65677966  7.05932203]]\n"
     ]
    }
   ],
   "source": [
    "chi2_contingency(table)\n",
    "chi2, pval, df, expected = chi2_contingency(table)\n",
    "\n",
    "print(\"Chi-squared test: X-squared = %s,p-value = %s, df = %s, expected value = %s\"\\\n",
    " % (round(chi2,5),round(pval,5),df, expected))\n"
   ]
  },
  {
   "cell_type": "code",
   "execution_count": null,
   "metadata": {},
   "outputs": [],
   "source": []
  }
 ],
 "metadata": {
  "kernelspec": {
   "display_name": "base",
   "language": "python",
   "name": "python3"
  },
  "language_info": {
   "codemirror_mode": {
    "name": "ipython",
    "version": 3
   },
   "file_extension": ".py",
   "mimetype": "text/x-python",
   "name": "python",
   "nbconvert_exporter": "python",
   "pygments_lexer": "ipython3",
   "version": "3.9.16"
  },
  "orig_nbformat": 4
 },
 "nbformat": 4,
 "nbformat_minor": 2
}
